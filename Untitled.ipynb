{
 "cells": [
  {
   "cell_type": "code",
   "execution_count": 14,
   "id": "8415edc2-99f7-4a35-8a79-a13a81b8b9c4",
   "metadata": {},
   "outputs": [],
   "source": [
    "import spacy\n",
    "import json\n",
    "import pandas as pd"
   ]
  },
  {
   "cell_type": "code",
   "execution_count": 12,
   "id": "e6049ba1-6c9a-452d-8359-ce6409a13ddf",
   "metadata": {},
   "outputs": [
    {
     "name": "stdout",
     "output_type": "stream",
     "text": [
      "Looking in indexes: https://pypi.org/simple, https://pypi.ngc.nvidia.com\n",
      "Collecting en-core-web-sm==3.2.0\n",
      "  Downloading https://github.com/explosion/spacy-models/releases/download/en_core_web_sm-3.2.0/en_core_web_sm-3.2.0-py3-none-any.whl (13.9 MB)\n",
      "\u001b[2K     \u001b[90m━━━━━━━━━━━━━━━━━━━━━━━━━━━━━━━━━━━━━━━━\u001b[0m \u001b[32m13.9/13.9 MB\u001b[0m \u001b[31m67.1 MB/s\u001b[0m eta \u001b[36m0:00:00\u001b[0ma \u001b[36m0:00:01\u001b[0m\n",
      "\u001b[?25hRequirement already satisfied: spacy<3.3.0,>=3.2.0 in /opt/conda/lib/python3.8/site-packages (from en-core-web-sm==3.2.0) (3.2.1)\n",
      "Requirement already satisfied: blis<0.8.0,>=0.4.0 in /opt/conda/lib/python3.8/site-packages (from spacy<3.3.0,>=3.2.0->en-core-web-sm==3.2.0) (0.7.5)\n",
      "Requirement already satisfied: pydantic!=1.8,!=1.8.1,<1.9.0,>=1.7.4 in /opt/conda/lib/python3.8/site-packages (from spacy<3.3.0,>=3.2.0->en-core-web-sm==3.2.0) (1.8.2)\n",
      "Requirement already satisfied: spacy-legacy<3.1.0,>=3.0.8 in /opt/conda/lib/python3.8/site-packages (from spacy<3.3.0,>=3.2.0->en-core-web-sm==3.2.0) (3.0.8)\n",
      "Requirement already satisfied: spacy-loggers<2.0.0,>=1.0.0 in /opt/conda/lib/python3.8/site-packages (from spacy<3.3.0,>=3.2.0->en-core-web-sm==3.2.0) (1.0.1)\n",
      "Requirement already satisfied: cymem<2.1.0,>=2.0.2 in /opt/conda/lib/python3.8/site-packages (from spacy<3.3.0,>=3.2.0->en-core-web-sm==3.2.0) (2.0.6)\n",
      "Requirement already satisfied: packaging>=20.0 in /opt/conda/lib/python3.8/site-packages (from spacy<3.3.0,>=3.2.0->en-core-web-sm==3.2.0) (21.3)\n",
      "Requirement already satisfied: langcodes<4.0.0,>=3.2.0 in /opt/conda/lib/python3.8/site-packages (from spacy<3.3.0,>=3.2.0->en-core-web-sm==3.2.0) (3.3.0)\n",
      "Requirement already satisfied: srsly<3.0.0,>=2.4.1 in /opt/conda/lib/python3.8/site-packages (from spacy<3.3.0,>=3.2.0->en-core-web-sm==3.2.0) (2.4.2)\n",
      "Requirement already satisfied: preshed<3.1.0,>=3.0.2 in /opt/conda/lib/python3.8/site-packages (from spacy<3.3.0,>=3.2.0->en-core-web-sm==3.2.0) (3.0.6)\n",
      "Requirement already satisfied: thinc<8.1.0,>=8.0.12 in /opt/conda/lib/python3.8/site-packages (from spacy<3.3.0,>=3.2.0->en-core-web-sm==3.2.0) (8.0.13)\n",
      "Requirement already satisfied: numpy>=1.15.0 in /opt/conda/lib/python3.8/site-packages (from spacy<3.3.0,>=3.2.0->en-core-web-sm==3.2.0) (1.22.2)\n",
      "Requirement already satisfied: catalogue<2.1.0,>=2.0.6 in /opt/conda/lib/python3.8/site-packages (from spacy<3.3.0,>=3.2.0->en-core-web-sm==3.2.0) (2.0.6)\n",
      "Requirement already satisfied: wasabi<1.1.0,>=0.8.1 in /opt/conda/lib/python3.8/site-packages (from spacy<3.3.0,>=3.2.0->en-core-web-sm==3.2.0) (0.9.0)\n",
      "Requirement already satisfied: tqdm<5.0.0,>=4.38.0 in /opt/conda/lib/python3.8/site-packages (from spacy<3.3.0,>=3.2.0->en-core-web-sm==3.2.0) (4.62.3)\n",
      "Requirement already satisfied: pathy>=0.3.5 in /opt/conda/lib/python3.8/site-packages (from spacy<3.3.0,>=3.2.0->en-core-web-sm==3.2.0) (0.6.1)\n",
      "Requirement already satisfied: setuptools in /opt/conda/lib/python3.8/site-packages (from spacy<3.3.0,>=3.2.0->en-core-web-sm==3.2.0) (59.5.0)\n",
      "Requirement already satisfied: requests<3.0.0,>=2.13.0 in /opt/conda/lib/python3.8/site-packages (from spacy<3.3.0,>=3.2.0->en-core-web-sm==3.2.0) (2.26.0)\n",
      "Requirement already satisfied: typer<0.5.0,>=0.3.0 in /opt/conda/lib/python3.8/site-packages (from spacy<3.3.0,>=3.2.0->en-core-web-sm==3.2.0) (0.4.0)\n",
      "Requirement already satisfied: murmurhash<1.1.0,>=0.28.0 in /opt/conda/lib/python3.8/site-packages (from spacy<3.3.0,>=3.2.0->en-core-web-sm==3.2.0) (1.0.6)\n",
      "Requirement already satisfied: jinja2 in /opt/conda/lib/python3.8/site-packages (from spacy<3.3.0,>=3.2.0->en-core-web-sm==3.2.0) (3.0.3)\n",
      "Requirement already satisfied: pyparsing!=3.0.5,>=2.0.2 in /opt/conda/lib/python3.8/site-packages (from packaging>=20.0->spacy<3.3.0,>=3.2.0->en-core-web-sm==3.2.0) (3.0.7)\n",
      "Requirement already satisfied: smart-open<6.0.0,>=5.0.0 in /opt/conda/lib/python3.8/site-packages (from pathy>=0.3.5->spacy<3.3.0,>=3.2.0->en-core-web-sm==3.2.0) (5.2.1)\n",
      "Requirement already satisfied: typing-extensions>=3.7.4.3 in /opt/conda/lib/python3.8/site-packages (from pydantic!=1.8,!=1.8.1,<1.9.0,>=1.7.4->spacy<3.3.0,>=3.2.0->en-core-web-sm==3.2.0) (4.0.1)\n",
      "Requirement already satisfied: idna<4,>=2.5 in /opt/conda/lib/python3.8/site-packages (from requests<3.0.0,>=2.13.0->spacy<3.3.0,>=3.2.0->en-core-web-sm==3.2.0) (3.1)\n",
      "Requirement already satisfied: urllib3<1.27,>=1.21.1 in /opt/conda/lib/python3.8/site-packages (from requests<3.0.0,>=2.13.0->spacy<3.3.0,>=3.2.0->en-core-web-sm==3.2.0) (1.26.7)\n",
      "Requirement already satisfied: certifi>=2017.4.17 in /opt/conda/lib/python3.8/site-packages (from requests<3.0.0,>=2.13.0->spacy<3.3.0,>=3.2.0->en-core-web-sm==3.2.0) (2021.10.8)\n",
      "Requirement already satisfied: charset-normalizer~=2.0.0 in /opt/conda/lib/python3.8/site-packages (from requests<3.0.0,>=2.13.0->spacy<3.3.0,>=3.2.0->en-core-web-sm==3.2.0) (2.0.9)\n",
      "Requirement already satisfied: click<9.0.0,>=7.1.1 in /opt/conda/lib/python3.8/site-packages (from typer<0.5.0,>=0.3.0->spacy<3.3.0,>=3.2.0->en-core-web-sm==3.2.0) (8.0.3)\n",
      "Requirement already satisfied: MarkupSafe>=2.0 in /opt/conda/lib/python3.8/site-packages (from jinja2->spacy<3.3.0,>=3.2.0->en-core-web-sm==3.2.0) (2.0.1)\n",
      "Installing collected packages: en-core-web-sm\n",
      "Successfully installed en-core-web-sm-3.2.0\n",
      "\u001b[33mWARNING: Running pip as the 'root' user can result in broken permissions and conflicting behaviour with the system package manager. It is recommended to use a virtual environment instead: https://pip.pypa.io/warnings/venv\u001b[0m\u001b[33m\n",
      "\u001b[0m\u001b[38;5;2m✔ Download and installation successful\u001b[0m\n",
      "You can now load the package via spacy.load('en_core_web_sm')\n"
     ]
    }
   ],
   "source": [
    "! python -m spacy download en_core_web_sm"
   ]
  },
  {
   "cell_type": "code",
   "execution_count": 13,
   "id": "0be551d9-e01e-43ae-bd0b-dc72c5bf790d",
   "metadata": {},
   "outputs": [],
   "source": [
    "nlp = spacy.load(\"en_core_web_sm\")"
   ]
  },
  {
   "cell_type": "code",
   "execution_count": 16,
   "id": "a769d936-5279-4f7e-a43a-23450d3ef6fc",
   "metadata": {},
   "outputs": [],
   "source": [
    "with open(\"data.json\",\"r\") as data_json:\n",
    "    data = json.load(data_json)"
   ]
  },
  {
   "cell_type": "code",
   "execution_count": 20,
   "id": "f3d96594-1a62-44e2-86ba-d561569ffcde",
   "metadata": {},
   "outputs": [],
   "source": [
    "text=data[0]['text'].lower()"
   ]
  },
  {
   "cell_type": "code",
   "execution_count": 24,
   "id": "0c367a1e-0d3a-48ba-998d-be70a6b75525",
   "metadata": {},
   "outputs": [
    {
     "data": {
      "text/plain": [
       "'a pandemic (from greek πᾶν, pan, \"all\" and δῆμος, demos, \"people\") is an epidemic of an infectious disease that has spread across a large region, for instance multiple continents or worldwide, affecting a substantial number of people. a widespread endemic disease with a stable number of infected people is not a pandemic. widespread endemic diseases with a stable number of infected people such as recurrences of seasonal influenza are generally excluded as they occur simultaneously in large regions of the globe rather than being spread worldwide.\\nthroughout human history, there have been a number of pandemics of diseases such as smallpox and tuberculosis. the most fatal pandemic in recorded history was the black death (also known as the plague), which killed an estimated 75–200 million people in the 14th century. the term was not used yet but was for later pandemics including the 1918 influenza pandemic (spanish flu). current pandemics include covid-19 (sars-cov-2) and hiv/aids.'"
      ]
     },
     "execution_count": 24,
     "metadata": {},
     "output_type": "execute_result"
    }
   ],
   "source": [
    "text"
   ]
  },
  {
   "cell_type": "code",
   "execution_count": 21,
   "id": "8b502e47-1153-440e-badf-6fa7b163e4e0",
   "metadata": {},
   "outputs": [],
   "source": [
    "lemmas = [t.lemma_ for t in nlp(text)]"
   ]
  },
  {
   "cell_type": "code",
   "execution_count": 25,
   "id": "d0c60111-bae1-4e11-ae2c-1c7644a7d039",
   "metadata": {},
   "outputs": [],
   "source": [
    "lemmes_text=' '.join(lemmas)"
   ]
  },
  {
   "cell_type": "code",
   "execution_count": 26,
   "id": "35e779d7-3c3d-49ac-9899-03308884f180",
   "metadata": {},
   "outputs": [
    {
     "data": {
      "text/plain": [
       "'a pandemic ( from greek πᾶν , pan , \" all \" and δῆμος , demos , \" people \" ) be an epidemic of an infectious disease that have spread across a large region , for instance multiple continent or worldwide , affect a substantial number of people . a widespread endemic disease with a stable number of infected people be not a pandemic . widespread endemic disease with a stable number of infected people such as recurrence of seasonal influenza be generally exclude as they occur simultaneously in large region of the globe rather than be spread worldwide . \\n throughout human history , there have be a number of pandemic of disease such as smallpox and tuberculosis . the most fatal pandemic in recorded history be the black death ( also know as the plague ) , which kill an estimate 75–200 million people in the 14th century . the term be not use yet but be for later pandemic include the 1918 influenza pandemic ( spanish flu ) . current pandemic include covid-19 ( sars - cov-2 ) and hiv / aids .'"
      ]
     },
     "execution_count": 26,
     "metadata": {},
     "output_type": "execute_result"
    }
   ],
   "source": [
    "lemmes_text"
   ]
  },
  {
   "cell_type": "code",
   "execution_count": 27,
   "id": "d40d465f-ba86-4ff1-aeb4-11e3ecdfb5a0",
   "metadata": {},
   "outputs": [],
   "source": [
    "text_without_Stop_Words = [t.text for t in nlp(lemmes_text) if not t.is_stop]"
   ]
  },
  {
   "cell_type": "code",
   "execution_count": 31,
   "id": "4908c402-cc44-499e-9ce2-c0af5b0594b9",
   "metadata": {},
   "outputs": [],
   "source": [
    "cleaned_text = ' '.join(text_without_Stop_Words)"
   ]
  },
  {
   "cell_type": "code",
   "execution_count": 32,
   "id": "ac7128a9-13b7-45aa-9f9d-bec4f0f1dac0",
   "metadata": {},
   "outputs": [
    {
     "data": {
      "text/plain": [
       "'pandemic ( greek πᾶν , pan , \" \" δῆμος , demos , \" people \" ) epidemic infectious disease spread large region , instance multiple continent worldwide , affect substantial number people . widespread endemic disease stable number infected people pandemic . widespread endemic disease stable number infected people recurrence seasonal influenza generally exclude occur simultaneously large region globe spread worldwide . \\n  human history , number pandemic disease smallpox tuberculosis . fatal pandemic recorded history black death ( know plague ) , kill estimate 75–200 million people 14th century . term use later pandemic include 1918 influenza pandemic ( spanish flu ) . current pandemic include covid-19 ( sars - cov-2 ) hiv / aids .'"
      ]
     },
     "execution_count": 32,
     "metadata": {},
     "output_type": "execute_result"
    }
   ],
   "source": [
    "cleaned_text"
   ]
  },
  {
   "cell_type": "code",
   "execution_count": 33,
   "id": "f3b1f1c9-c964-4e4c-803b-57af18c5fb78",
   "metadata": {},
   "outputs": [],
   "source": [
    "tokens_without_punct_spacy = [t.text for t in nlp(cleaned_text) if t.pos_ != 'PUNCT']"
   ]
  },
  {
   "cell_type": "code",
   "execution_count": 35,
   "id": "921cb19a-adc4-47b8-98de-ff67361c9bde",
   "metadata": {},
   "outputs": [
    {
     "data": {
      "text/plain": [
       "\"Spacy based removal: ['pandemic', 'greek', 'πᾶν', 'pan', 'δῆμος', 'demos', 'people', 'epidemic', 'infectious', 'disease', 'spread', 'large', 'region', 'instance', 'multiple', 'continent', 'worldwide', 'affect', 'substantial', 'number', 'people', 'widespread', 'endemic', 'disease', 'stable', 'number', 'infected', 'people', 'pandemic', 'widespread', 'endemic', 'disease', 'stable', 'number', 'infected', 'people', 'recurrence', 'seasonal', 'influenza', 'generally', 'exclude', 'occur', 'simultaneously', 'large', 'region', 'globe', 'spread', 'worldwide', '\\\\n  ', 'human', 'history', 'number', 'pandemic', 'disease', 'smallpox', 'tuberculosis', 'fatal', 'pandemic', 'recorded', 'history', 'black', 'death', 'know', 'plague', 'kill', 'estimate', '75–200', 'million', 'people', '14th', 'century', 'term', 'use', 'later', 'pandemic', 'include', '1918', 'influenza', 'pandemic', 'spanish', 'flu', 'current', 'pandemic', 'include', 'covid-19', 'sars', 'cov-2', 'hiv', '/', 'aids']\""
      ]
     },
     "execution_count": 35,
     "metadata": {},
     "output_type": "execute_result"
    }
   ],
   "source": [
    "f\"Spacy based removal: {tokens_without_punct_spacy}\""
   ]
  },
  {
   "cell_type": "code",
   "execution_count": 36,
   "id": "233e7a24-c0d2-4d83-93ec-e01a4c63d143",
   "metadata": {},
   "outputs": [
    {
     "name": "stdout",
     "output_type": "stream",
     "text": [
      "Looking in indexes: https://pypi.org/simple, https://pypi.ngc.nvidia.com\n",
      "Collecting normalise\n",
      "  Downloading normalise-0.1.8-py3-none-any.whl (15.7 MB)\n",
      "\u001b[2K     \u001b[90m━━━━━━━━━━━━━━━━━━━━━━━━━━━━━━━━━━━━━━━━\u001b[0m \u001b[32m15.7/15.7 MB\u001b[0m \u001b[31m61.3 MB/s\u001b[0m eta \u001b[36m0:00:00\u001b[0ma \u001b[36m0:00:01\u001b[0m\n",
      "\u001b[?25hCollecting roman\n",
      "  Downloading roman-3.3-py2.py3-none-any.whl (3.9 kB)\n",
      "Requirement already satisfied: nltk in /opt/conda/lib/python3.8/site-packages (from normalise) (3.7)\n",
      "Requirement already satisfied: scipy in /opt/conda/lib/python3.8/site-packages (from normalise) (1.6.3)\n",
      "Requirement already satisfied: numpy in /opt/conda/lib/python3.8/site-packages (from normalise) (1.22.2)\n",
      "Requirement already satisfied: scikit-learn in /opt/conda/lib/python3.8/site-packages (from normalise) (0.24.0)\n",
      "Requirement already satisfied: joblib in /opt/conda/lib/python3.8/site-packages (from nltk->normalise) (1.1.0)\n",
      "Requirement already satisfied: click in /opt/conda/lib/python3.8/site-packages (from nltk->normalise) (8.0.3)\n",
      "Requirement already satisfied: tqdm in /opt/conda/lib/python3.8/site-packages (from nltk->normalise) (4.62.3)\n",
      "Requirement already satisfied: regex>=2021.8.3 in /opt/conda/lib/python3.8/site-packages (from nltk->normalise) (2022.1.18)\n",
      "Requirement already satisfied: threadpoolctl>=2.0.0 in /opt/conda/lib/python3.8/site-packages (from scikit-learn->normalise) (3.1.0)\n",
      "Installing collected packages: roman, normalise\n",
      "Successfully installed normalise-0.1.8 roman-3.3\n",
      "\u001b[33mWARNING: Running pip as the 'root' user can result in broken permissions and conflicting behaviour with the system package manager. It is recommended to use a virtual environment instead: https://pip.pypa.io/warnings/venv\u001b[0m\u001b[33m\n",
      "\u001b[0m"
     ]
    }
   ],
   "source": [
    "!pip install normalise"
   ]
  },
  {
   "cell_type": "code",
   "execution_count": 62,
   "id": "490e5738-3259-459a-b6f8-8644f4a67657",
   "metadata": {},
   "outputs": [],
   "source": [
    "import string\n",
    "def remove_punct( doc):\n",
    "    return [t for t in doc if t.text not in string.punctuation]\n",
    "\n",
    "def remove_stop_words(doc):\n",
    "        return [t for t in doc if not t.is_stop]\n",
    "    \n",
    "def lemmatize(doc):\n",
    "        return ' '.join([t.lemma_ for t in doc])\n",
    "    \n",
    "def preprocess_text(text):\n",
    "        doc = nlp(text.lower())\n",
    "        removed_punct = remove_punct(doc)\n",
    "        removed_stop_words = remove_stop_words(removed_punct)\n",
    "        return lemmatize(removed_stop_words)"
   ]
  },
  {
   "cell_type": "code",
   "execution_count": 63,
   "id": "ea934ba0-7375-4c03-b132-b2faa4a494ec",
   "metadata": {},
   "outputs": [
    {
     "data": {
      "text/plain": [
       "'pandemic greek πᾶν pan δῆμος demos people epidemic infectious disease spread large region instance multiple continent worldwide affect substantial number people widespread endemic disease stable number infected people pandemic widespread endemic disease stable number infected people recurrence seasonal influenza generally exclude occur simultaneously large region globe spread worldwide \\n human history number pandemic disease smallpox tuberculosis fatal pandemic recorded history black death know plague kill estimate 75–200 million people 14th century term later pandemic include 1918 influenza pandemic spanish flu current pandemic include covid-19 sars cov-2 hiv aids'"
      ]
     },
     "execution_count": 63,
     "metadata": {},
     "output_type": "execute_result"
    }
   ],
   "source": [
    "preprocess_text(data[0]['text'])"
   ]
  },
  {
   "cell_type": "code",
   "execution_count": 64,
   "id": "85670bf9-3237-4bb5-91db-a45affb33d96",
   "metadata": {},
   "outputs": [],
   "source": [
    "import pandas as pd"
   ]
  },
  {
   "cell_type": "code",
   "execution_count": 68,
   "id": "f1748717-7d8b-4c2a-8029-f677f150599b",
   "metadata": {},
   "outputs": [],
   "source": [
    "df=pd.read_json('data.json')"
   ]
  },
  {
   "cell_type": "code",
   "execution_count": 69,
   "id": "c62746b4-11f2-4ecd-93a4-b0b7e29102ec",
   "metadata": {},
   "outputs": [
    {
     "data": {
      "text/html": [
       "<div>\n",
       "<style scoped>\n",
       "    .dataframe tbody tr th:only-of-type {\n",
       "        vertical-align: middle;\n",
       "    }\n",
       "\n",
       "    .dataframe tbody tr th {\n",
       "        vertical-align: top;\n",
       "    }\n",
       "\n",
       "    .dataframe thead th {\n",
       "        text-align: right;\n",
       "    }\n",
       "</style>\n",
       "<table border=\"1\" class=\"dataframe\">\n",
       "  <thead>\n",
       "    <tr style=\"text-align: right;\">\n",
       "      <th></th>\n",
       "      <th>title</th>\n",
       "      <th>text</th>\n",
       "      <th>url</th>\n",
       "    </tr>\n",
       "  </thead>\n",
       "  <tbody>\n",
       "    <tr>\n",
       "      <th>0</th>\n",
       "      <td>Pandemic</td>\n",
       "      <td>A pandemic (from Greek πᾶν, pan, \"all\" and δῆμ...</td>\n",
       "      <td>https://en.wikipedia.org/wiki/Pandemic</td>\n",
       "    </tr>\n",
       "    <tr>\n",
       "      <th>1</th>\n",
       "      <td>Epidemiology of HIV/AIDS</td>\n",
       "      <td>HIV/AIDS, or Human Immunodeficiency Virus, is ...</td>\n",
       "      <td>https://en.wikipedia.org/wiki/Epidemiology_of_...</td>\n",
       "    </tr>\n",
       "    <tr>\n",
       "      <th>2</th>\n",
       "      <td>Antonine Plague</td>\n",
       "      <td>The Antonine Plague of 165 to 180 AD, also kno...</td>\n",
       "      <td>https://en.wikipedia.org/wiki/Antonine_Plague</td>\n",
       "    </tr>\n",
       "    <tr>\n",
       "      <th>3</th>\n",
       "      <td>Basic reproduction number</td>\n",
       "      <td>In epidemiology, the basic reproduction number...</td>\n",
       "      <td>https://en.wikipedia.org/wiki/Basic_reproducti...</td>\n",
       "    </tr>\n",
       "    <tr>\n",
       "      <th>4</th>\n",
       "      <td>Bills of mortality</td>\n",
       "      <td>Bills of mortality were the weekly mortality s...</td>\n",
       "      <td>https://en.wikipedia.org/wiki/Bills_of_mortality</td>\n",
       "    </tr>\n",
       "  </tbody>\n",
       "</table>\n",
       "</div>"
      ],
      "text/plain": [
       "                       title  \\\n",
       "0                   Pandemic   \n",
       "1   Epidemiology of HIV/AIDS   \n",
       "2            Antonine Plague   \n",
       "3  Basic reproduction number   \n",
       "4         Bills of mortality   \n",
       "\n",
       "                                                text  \\\n",
       "0  A pandemic (from Greek πᾶν, pan, \"all\" and δῆμ...   \n",
       "1  HIV/AIDS, or Human Immunodeficiency Virus, is ...   \n",
       "2  The Antonine Plague of 165 to 180 AD, also kno...   \n",
       "3  In epidemiology, the basic reproduction number...   \n",
       "4  Bills of mortality were the weekly mortality s...   \n",
       "\n",
       "                                                 url  \n",
       "0             https://en.wikipedia.org/wiki/Pandemic  \n",
       "1  https://en.wikipedia.org/wiki/Epidemiology_of_...  \n",
       "2      https://en.wikipedia.org/wiki/Antonine_Plague  \n",
       "3  https://en.wikipedia.org/wiki/Basic_reproducti...  \n",
       "4   https://en.wikipedia.org/wiki/Bills_of_mortality  "
      ]
     },
     "execution_count": 69,
     "metadata": {},
     "output_type": "execute_result"
    }
   ],
   "source": [
    "df.head()"
   ]
  },
  {
   "cell_type": "code",
   "execution_count": 70,
   "id": "cf95747e-fe85-4c13-a3a9-2cae75c35d23",
   "metadata": {},
   "outputs": [],
   "source": [
    "df['tokenized_text'] = df['text'].map(preprocess_text)"
   ]
  },
  {
   "cell_type": "code",
   "execution_count": 71,
   "id": "d2bd9706-63c2-457a-81f6-27f48c8b93a3",
   "metadata": {},
   "outputs": [
    {
     "data": {
      "text/html": [
       "<div>\n",
       "<style scoped>\n",
       "    .dataframe tbody tr th:only-of-type {\n",
       "        vertical-align: middle;\n",
       "    }\n",
       "\n",
       "    .dataframe tbody tr th {\n",
       "        vertical-align: top;\n",
       "    }\n",
       "\n",
       "    .dataframe thead th {\n",
       "        text-align: right;\n",
       "    }\n",
       "</style>\n",
       "<table border=\"1\" class=\"dataframe\">\n",
       "  <thead>\n",
       "    <tr style=\"text-align: right;\">\n",
       "      <th></th>\n",
       "      <th>title</th>\n",
       "      <th>text</th>\n",
       "      <th>url</th>\n",
       "      <th>tokenized_text</th>\n",
       "    </tr>\n",
       "  </thead>\n",
       "  <tbody>\n",
       "    <tr>\n",
       "      <th>0</th>\n",
       "      <td>Pandemic</td>\n",
       "      <td>A pandemic (from Greek πᾶν, pan, \"all\" and δῆμ...</td>\n",
       "      <td>https://en.wikipedia.org/wiki/Pandemic</td>\n",
       "      <td>pandemic greek πᾶν pan δῆμος demos people epid...</td>\n",
       "    </tr>\n",
       "    <tr>\n",
       "      <th>1</th>\n",
       "      <td>Epidemiology of HIV/AIDS</td>\n",
       "      <td>HIV/AIDS, or Human Immunodeficiency Virus, is ...</td>\n",
       "      <td>https://en.wikipedia.org/wiki/Epidemiology_of_...</td>\n",
       "      <td>hiv aids human immunodeficiency virus consider...</td>\n",
       "    </tr>\n",
       "    <tr>\n",
       "      <th>2</th>\n",
       "      <td>Antonine Plague</td>\n",
       "      <td>The Antonine Plague of 165 to 180 AD, also kno...</td>\n",
       "      <td>https://en.wikipedia.org/wiki/Antonine_Plague</td>\n",
       "      <td>antonine plague 165 180 ad know plague galen g...</td>\n",
       "    </tr>\n",
       "    <tr>\n",
       "      <th>3</th>\n",
       "      <td>Basic reproduction number</td>\n",
       "      <td>In epidemiology, the basic reproduction number...</td>\n",
       "      <td>https://en.wikipedia.org/wiki/Basic_reproducti...</td>\n",
       "      <td>epidemiology basic reproduction number basic r...</td>\n",
       "    </tr>\n",
       "    <tr>\n",
       "      <th>4</th>\n",
       "      <td>Bills of mortality</td>\n",
       "      <td>Bills of mortality were the weekly mortality s...</td>\n",
       "      <td>https://en.wikipedia.org/wiki/Bills_of_mortality</td>\n",
       "      <td>bill mortality weekly mortality statistic lond...</td>\n",
       "    </tr>\n",
       "  </tbody>\n",
       "</table>\n",
       "</div>"
      ],
      "text/plain": [
       "                       title  \\\n",
       "0                   Pandemic   \n",
       "1   Epidemiology of HIV/AIDS   \n",
       "2            Antonine Plague   \n",
       "3  Basic reproduction number   \n",
       "4         Bills of mortality   \n",
       "\n",
       "                                                text  \\\n",
       "0  A pandemic (from Greek πᾶν, pan, \"all\" and δῆμ...   \n",
       "1  HIV/AIDS, or Human Immunodeficiency Virus, is ...   \n",
       "2  The Antonine Plague of 165 to 180 AD, also kno...   \n",
       "3  In epidemiology, the basic reproduction number...   \n",
       "4  Bills of mortality were the weekly mortality s...   \n",
       "\n",
       "                                                 url  \\\n",
       "0             https://en.wikipedia.org/wiki/Pandemic   \n",
       "1  https://en.wikipedia.org/wiki/Epidemiology_of_...   \n",
       "2      https://en.wikipedia.org/wiki/Antonine_Plague   \n",
       "3  https://en.wikipedia.org/wiki/Basic_reproducti...   \n",
       "4   https://en.wikipedia.org/wiki/Bills_of_mortality   \n",
       "\n",
       "                                      tokenized_text  \n",
       "0  pandemic greek πᾶν pan δῆμος demos people epid...  \n",
       "1  hiv aids human immunodeficiency virus consider...  \n",
       "2  antonine plague 165 180 ad know plague galen g...  \n",
       "3  epidemiology basic reproduction number basic r...  \n",
       "4  bill mortality weekly mortality statistic lond...  "
      ]
     },
     "execution_count": 71,
     "metadata": {},
     "output_type": "execute_result"
    }
   ],
   "source": [
    "df.head()"
   ]
  },
  {
   "cell_type": "code",
   "execution_count": 72,
   "id": "8a618833-6988-4ffc-844b-bfb2c22fab9a",
   "metadata": {},
   "outputs": [],
   "source": [
    "df.to_json('tokenized.json')"
   ]
  },
  {
   "cell_type": "code",
   "execution_count": null,
   "id": "2ac52b82-d352-4fb2-aa54-762de127719a",
   "metadata": {},
   "outputs": [],
   "source": []
  }
 ],
 "metadata": {
  "kernelspec": {
   "display_name": "Python 3 (ipykernel)",
   "language": "python",
   "name": "python3"
  },
  "language_info": {
   "codemirror_mode": {
    "name": "ipython",
    "version": 3
   },
   "file_extension": ".py",
   "mimetype": "text/x-python",
   "name": "python",
   "nbconvert_exporter": "python",
   "pygments_lexer": "ipython3",
   "version": "3.8.12"
  }
 },
 "nbformat": 4,
 "nbformat_minor": 5
}
